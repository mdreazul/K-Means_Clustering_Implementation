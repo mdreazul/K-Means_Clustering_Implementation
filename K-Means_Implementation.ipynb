{
 "cells": [
  {
   "cell_type": "code",
   "execution_count": null,
   "metadata": {},
   "outputs": [],
   "source": [
    "def k_means_custom(data, cluster_number, iter_val):\n",
    "    \n",
    "    # Create the random centroids\n",
    "    centroids = []\n",
    "    for i in range (0, cluster_number):\n",
    "        centroids.append(data[random.randint(0,len(data)-1)])\n",
    "        \n",
    "    #y will hold which the cluster assignment of corresponding data point    \n",
    "    y = np.arange(len(data))\n",
    "    \n",
    "    #Initial custer assingnment\n",
    "    for k in range (0, len(data)):\n",
    "        min = 99999\n",
    "        for l in range (0, cluster_number):\n",
    "            if np.linalg.norm(data[k]- centroids[l]) < min:\n",
    "                min = np.linalg.norm(data[k]- centroids[l])\n",
    "                y[k] = l\n",
    "    \n",
    "    # Repeatedly averaging and reassigning clusters.\n",
    "    for i in range (0, iter_val):\n",
    "        for j in range (0, cluster_number):\n",
    "            a = data[np.where(y == j)]\n",
    "            average = [sum(x)/len(x) for x in zip(*a)]\n",
    "            centroids[j] = average\n",
    "            \n",
    "        for k in range (0, len(data)):\n",
    "            min = 99999\n",
    "            for l in range (0, cluster_number):\n",
    "                if np.linalg.norm(data[k]- centroids[l]) < min:\n",
    "                    min = np.linalg.norm(data[k]- centroids[l])\n",
    "                    y[k] = l\n",
    "\n",
    "    return [centroids, y]"
   ]
  }
 ],
 "metadata": {
  "kernelspec": {
   "display_name": "Python 3",
   "language": "python",
   "name": "python3"
  },
  "language_info": {
   "codemirror_mode": {
    "name": "ipython",
    "version": 3
   },
   "file_extension": ".py",
   "mimetype": "text/x-python",
   "name": "python",
   "nbconvert_exporter": "python",
   "pygments_lexer": "ipython3",
   "version": "3.8.3"
  }
 },
 "nbformat": 4,
 "nbformat_minor": 4
}
